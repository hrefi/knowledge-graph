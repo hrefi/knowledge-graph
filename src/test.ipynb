{
 "cells": [
  {
   "cell_type": "code",
   "execution_count": 10,
   "metadata": {},
   "outputs": [],
   "source": [
    "from openai import OpenAI\n",
    "from dotenv import load_dotenv\n",
    "\n",
    "load_dotenv()\n",
    "\n",
    "client = OpenAI()\n",
    "\n",
    "# from dotenv import load_dotenv\n",
    "\n",
    "# load_dotenv()\n",
    "# openai.api_key = dotenv_values(\"../.env\")[\"OPENAI_API_KEY\"]"
   ]
  },
  {
   "cell_type": "markdown",
   "metadata": {},
   "source": [
    "### OpenAI API Testing"
   ]
  },
  {
   "cell_type": "markdown",
   "metadata": {},
   "source": [
    "##### JSON output"
   ]
  },
  {
   "cell_type": "code",
   "execution_count": 46,
   "metadata": {},
   "outputs": [
    {
     "name": "stdout",
     "output_type": "stream",
     "text": [
      "{\n",
      "  \"relationships\": [\n",
      "    {\n",
      "      \"src\": \"Hristo Stoichkov\",\n",
      "      \"relationship\": \"works\",\n",
      "      \"tgt\": \"TUDN\"\n",
      "    },\n",
      "    {\n",
      "      \"src\": \"Hristo Stoichkov\",\n",
      "      \"relationship\": \"was named in\",\n",
      "      \"tgt\": \"FIFA 100 by Pelé\"\n",
      "    },\n",
      "    {\n",
      "      \"src\": \"Hristo Stoichkov\",\n",
      "      \"relationship\": \"played for\",\n",
      "      \"tgt\": \"CSKA-Sofia\"\n",
      "    }\n",
      "  ]\n",
      "}\n",
      "{'relationships': [{'src': 'Hristo Stoichkov', 'relationship': 'works', 'tgt': 'TUDN'}, {'src': 'Hristo Stoichkov', 'relationship': 'was named in', 'tgt': 'FIFA 100 by Pelé'}, {'src': 'Hristo Stoichkov', 'relationship': 'played for', 'tgt': 'CSKA-Sofia'}]}\n"
     ]
    }
   ],
   "source": [
    "completion = client.chat.completions.create(\n",
    "   model=\"gpt-4-turbo-preview\",\n",
    "   messages=[\n",
    "      {\"role\": \"system\", \"content\": \"JSON\"},\n",
    "      {\"role\": \"user\", \"content\": \"\"\"Transform the string \\\"1. Hristo Stoichkov - works - TUDN\\n2. Hristo Stoichkov - was named in - FIFA 100 by Pelé\\n3. Hristo Stoichkov - played for - CSKA-Sofia\\\"\n",
    "       into a JSON object.\n",
    "       ---\n",
    "       schema:\n",
    "       {\n",
    "         \"relationships\": \\{\\\"src\\\", \\\"relationship\\\", \\\"tgt\\\"\\}[]\n",
    "       }\n",
    "       \"\"\"}\n",
    "   ],\n",
    "   response_format={\"type\": \"json_object\"}, # enable JSON mode - the model is constrained to only generate strings that parse into valid JSON object\n",
    "   max_tokens=256,\n",
    "   n = 1\n",
    ")\n",
    "\n",
    "print(completion.choices[0].message.content)\n",
    "# print(completion.choices[1].message.content)\n",
    "\n",
    "# Parse the GPT API output (string to dict)\n",
    "import ast\n",
    "a = completion.choices[0].message.content\n",
    "if completion.choices[0].finish_reason == 'length':\n",
    "   # Double the max_tokens length and re-run the query\n",
    "   print(\"Exceeded token limit\")\n",
    "else:\n",
    "   a = ast.literal_eval(a) # dict\n",
    "   print(a)\n",
    "\n",
    "# try:\n",
    "#    a = ast.literal_eval(a) # dict\n",
    "#    print(a)\n",
    "# except:\n",
    "#    raise Exception(\"Exceeded token limit\")"
   ]
  },
  {
   "cell_type": "markdown",
   "metadata": {},
   "source": [
    "##### Python lists output"
   ]
  },
  {
   "cell_type": "code",
   "execution_count": 26,
   "metadata": {},
   "outputs": [
    {
     "name": "stdout",
     "output_type": "stream",
     "text": [
      "```python\n",
      "[\n",
      "(\"Hristo Stoichkov\", \"works\", \"TUDN\"),\n",
      "(\"Hristo Stoichkov\", \"was named in\", \"FIFA 100 by Pelé\"),\n",
      "(\"Hristo Stoichkov\", \"played for\", \"CSKA-Sofia\")\n",
      "]\n",
      "```\n",
      "```python\n",
      "[\n",
      "    (\"1. Hristo Stoichkov\", \"works\", \"TUDN\"),\n",
      "    (\"2. Hristo Stoichkov\", \"was named in\", \"FIFA 100 by Pelé\"),\n",
      "    (\"3. Hristo Stoichkov\", \"played for\", \"CSKA-Sofia\"),\n",
      "]\n",
      "```\n"
     ]
    },
    {
     "data": {
      "text/plain": [
       "[('Hristo Stoichkov', 'works', 'TUDN'),\n",
       " ('Hristo Stoichkov', 'was named in', 'FIFA 100 by Pelé'),\n",
       " ('Hristo Stoichkov', 'played for', 'CSKA-Sofia')]"
      ]
     },
     "execution_count": 26,
     "metadata": {},
     "output_type": "execute_result"
    }
   ],
   "source": [
    "completion = client.chat.completions.create(\n",
    "   model=\"gpt-4-turbo-preview\",\n",
    "   messages=[\n",
    "      {\"role\": \"system\", \"content\": \"\"},\n",
    "      {\"role\": \"user\", \"content\": \"\"\"Transform the string \\\"1. Hristo Stoichkov - works - TUDN\\n2. Hristo Stoichkov - was named in - FIFA 100 by Pelé\\n3. Hristo Stoichkov - played for - CSKA-Sofia\\\"\n",
    "       into a list of tuples. Each tuples should have 3 elements of type string. Only output a Python list.\"\"\"}\n",
    "   ],\n",
    "   max_tokens=100,\n",
    "   n = 2\n",
    ")\n",
    "\n",
    "print(completion.choices[0].message.content)\n",
    "print(completion.choices[1].message.content)\n",
    "\n",
    "# Parse Python lists from the GPT API output\n",
    "import ast\n",
    "\n",
    "a = completion.choices[0].message.content\n",
    "a = a.replace(\"```python\", \"\").replace(\"```\", \"\").strip()\n",
    "a = ast.literal_eval(a)\n",
    "a"
   ]
  },
  {
   "cell_type": "markdown",
   "metadata": {},
   "source": [
    "##### Compare the Length in Tokens (Number of Tokens) of the JSON and List Approaches"
   ]
  },
  {
   "cell_type": "code",
   "execution_count": 2,
   "metadata": {},
   "outputs": [
    {
     "name": "stdout",
     "output_type": "stream",
     "text": [
      "234\n",
      "429\n"
     ]
    }
   ],
   "source": [
    "from numTokens import numTokensStr\n",
    "\n",
    "json = \"\"\"{\n",
    "  \"relationships\": [\n",
    "    {\n",
    "      \"src\": \"Hristo Stoichkov\",\n",
    "      \"relationship\": \"works\",\n",
    "      \"tgt\": \"TUDN\"\n",
    "    },\n",
    "    {\n",
    "      \"src\": \"Hristo Stoichkov\",\n",
    "      \"relationship\": \"was named in\",\n",
    "      \"tgt\": \"FIFA 100 by Pelé\"\n",
    "    },\n",
    "    {\n",
    "      \"src\": \"Hristo Stoichkov\",\n",
    "      \"relationship\": \"played for\",\n",
    "      \"tgt\": \"CSKA-Sofia\"\n",
    "    },\n",
    "    {\n",
    "      \"src\": \"Hristo Stoichkov\",\n",
    "      \"relationship\": \"works\",\n",
    "      \"tgt\": \"TUDN\"\n",
    "    },\n",
    "    {\n",
    "      \"src\": \"Hristo Stoichkov\",\n",
    "      \"relationship\": \"was named in\",\n",
    "      \"tgt\": \"FIFA 100 by Pelé\"\n",
    "    },\n",
    "    {\n",
    "      \"src\": \"Hristo Stoichkov\",\n",
    "      \"relationship\": \"played for\",\n",
    "      \"tgt\": \"CSKA-Sofia\"\n",
    "    },\n",
    "    {\n",
    "      \"src\": \"Hristo Stoichkov\",\n",
    "      \"relationship\": \"works\",\n",
    "      \"tgt\": \"TUDN\"\n",
    "    },\n",
    "    {\n",
    "      \"src\": \"Hristo Stoichkov\",\n",
    "      \"relationship\": \"was named in\",\n",
    "      \"tgt\": \"FIFA 100 by Pelé\"\n",
    "    },\n",
    "    {\n",
    "      \"src\": \"Hristo Stoichkov\",\n",
    "      \"relationship\": \"played for\",\n",
    "      \"tgt\": \"CSKA-Sofia\"\n",
    "    },\n",
    "    {\n",
    "      \"src\": \"Hristo Stoichkov\",\n",
    "      \"relationship\": \"works\",\n",
    "      \"tgt\": \"TUDN\"\n",
    "    },\n",
    "    {\n",
    "      \"src\": \"Hristo Stoichkov\",\n",
    "      \"relationship\": \"was named in\",\n",
    "      \"tgt\": \"FIFA 100 by Pelé\"\n",
    "    },\n",
    "    {\n",
    "      \"src\": \"Hristo Stoichkov\",\n",
    "      \"relationship\": \"played for\",\n",
    "      \"tgt\": \"CSKA-Sofia\"\n",
    "    },\n",
    "  ]\n",
    "}\"\"\"\n",
    "array = \"\"\"```python\n",
    "[\n",
    "(\"Hristo Stoichkov\", \"works\", \"TUDN\"),\n",
    "(\"Hristo Stoichkov\", \"was named in\", \"FIFA 100 by Pelé\"),\n",
    "(\"Hristo Stoichkov\", \"played for\", \"CSKA-Sofia\"),\n",
    "(\"Hristo Stoichkov\", \"works\", \"TUDN\"),\n",
    "(\"Hristo Stoichkov\", \"was named in\", \"FIFA 100 by Pelé\"),\n",
    "(\"Hristo Stoichkov\", \"played for\", \"CSKA-Sofia\"),\n",
    "(\"Hristo Stoichkov\", \"works\", \"TUDN\"),\n",
    "(\"Hristo Stoichkov\", \"was named in\", \"FIFA 100 by Pelé\"),\n",
    "(\"Hristo Stoichkov\", \"played for\", \"CSKA-Sofia\"),\n",
    "(\"Hristo Stoichkov\", \"works\", \"TUDN\"),\n",
    "(\"Hristo Stoichkov\", \"was named in\", \"FIFA 100 by Pelé\"),\n",
    "(\"Hristo Stoichkov\", \"played for\", \"CSKA-Sofia\"),\n",
    "]\n",
    "```\"\"\"\n",
    "\n",
    "print(numTokensStr(array))\n",
    "print(numTokensStr(json))"
   ]
  },
  {
   "cell_type": "markdown",
   "metadata": {},
   "source": [
    "##### Stream Test"
   ]
  },
  {
   "cell_type": "code",
   "execution_count": 27,
   "metadata": {},
   "outputs": [
    {
     "name": "stdout",
     "output_type": "stream",
     "text": [
      "This is a test."
     ]
    }
   ],
   "source": [
    "stream = client.chat.completions.create(\n",
    "   model=\"gpt-3.5-turbo-0125\",\n",
    "   messages=[{\"role\": \"user\", \"content\": \"Say this is a test\"}],\n",
    "   stream=True,\n",
    ")\n",
    "\n",
    "for chunk in stream:\n",
    "   if chunk.choices[0].delta.content is not None:\n",
    "      print(chunk.choices[0].delta.content, end=\"\")\n",
    "\n"
   ]
  },
  {
   "cell_type": "markdown",
   "metadata": {},
   "source": [
    "### Query Processing"
   ]
  },
  {
   "cell_type": "code",
   "execution_count": 19,
   "metadata": {},
   "outputs": [
    {
     "name": "stdout",
     "output_type": "stream",
     "text": [
      "Yigit Ihlamur\n"
     ]
    }
   ],
   "source": [
    "query = str(input(\"Input (text): \"))\n",
    "print(query)"
   ]
  },
  {
   "cell_type": "markdown",
   "metadata": {},
   "source": [
    "##### Expand the query for more accurate results"
   ]
  },
  {
   "cell_type": "code",
   "execution_count": 36,
   "metadata": {},
   "outputs": [],
   "source": [
    "# Maybe add \"person\" or \"company\"/\"organisation\" to the query\n",
    "def expand_query(query):\n",
    "   synonyms = [\"job title\", \"works at\", \"associated with\"]  # Expand this\n",
    "   expanded_queries = [query + \" \" + synonym for synonym in synonyms]\n",
    "   return expanded_queries "
   ]
  },
  {
   "cell_type": "markdown",
   "metadata": {},
   "source": [
    "##### Additional Optional Input /or/ the LLM asks the user a clarifying question about the type of relationships wanted /or/ (initially) the LLM asks follow-up questions about more specific important relationships: e.g. where is X located, were does X work, who does X work with, who is the founder of X, etc.\n",
    "- This guides/directs the LLM to be more precise and accurate"
   ]
  },
  {
   "cell_type": "markdown",
   "metadata": {},
   "source": [
    "### Data Retrieval\n",
    "- bing\n",
    "- crunchbase\n",
    "- beautifulSoup"
   ]
  },
  {
   "cell_type": "markdown",
   "metadata": {},
   "source": [
    "##### Bing Search API Testing"
   ]
  },
  {
   "cell_type": "code",
   "execution_count": 20,
   "metadata": {},
   "outputs": [
    {
     "name": "stdout",
     "output_type": "stream",
     "text": [
      "Yiğit Ihlamur - Vela Partners | LinkedIn - https://www.linkedin.com/in/yihlamur\n",
      "Yigit Ihlamur, Vela Partners LLC: Profile and Biography - https://www.bloomberg.com/profile/person/21639808\n",
      "Yigit Ihlamur Profile: Contact Information & Network | PitchBook - https://pitchbook.com/profiles/person/193178-80P\n",
      "VC Talks #1: Yigit Ihlamur, Vela Partners - Medium - https://medium.com/vc-talks/vc-talks-1-yigit-ihlamur-vela-partners-4223f4a8e807\n",
      "Yigit Ihlamur Investor Profile: Portfolio & Exits | PitchBook - https://pitchbook.com/profiles/investor/432763-12\n"
     ]
    }
   ],
   "source": [
    "import requests\n",
    "import os \n",
    "from pprint import pprint\n",
    "\n",
    "# os.environ[\"...\"] / os.environ.get(\"...\")\n",
    "subscription_key = os.environ['BING_SEARCH_V7_SUBSCRIPTION_KEY']\n",
    "endpoint = os.environ['BING_SEARCH_V7_ENDPOINT'] + \"/v7.0/search\"\n",
    "\n",
    "# query = '\"Hristo Stoichkov\"'\n",
    "\n",
    "# Construct a request\n",
    "params = { 'q': f'\"{query}\"', 'mkt': 'en-US' } # \"count\": 10\n",
    "headers = { 'Ocp-Apim-Subscription-Key': subscription_key }\n",
    "\n",
    "# Call the API\n",
    "try:\n",
    "   response = requests.get(endpoint, headers=headers, params=params)\n",
    "   response.raise_for_status()\n",
    "\n",
    "   search_results = response.json()\n",
    "\n",
    "   # print(\"Headers:\")\n",
    "   # print(response.headers)\n",
    "   # print(\"JSON Response:\")\n",
    "   # pprint(search_results)\n",
    "\n",
    "   for result in search_results[\"webPages\"][\"value\"][:5]:\n",
    "      print(f\"{result['name']} - {result['url']}\")\n",
    "\n",
    "except Exception as ex:\n",
    "   raise ex\n"
   ]
  },
  {
   "cell_type": "code",
   "execution_count": 21,
   "metadata": {},
   "outputs": [
    {
     "name": "stdout",
     "output_type": "stream",
     "text": [
      "Name: Yiğit Ihlamur - Vela Partners | LinkedIn\n",
      "URL: https://www.linkedin.com/in/yihlamur\n",
      "Snippet: work: vela.partners<br>personal: www.ihlamur.org · Experience: Vela Partners · Education: University of Oxford · Location: San Francisco Bay Area · 500+ connections on LinkedIn. View Yiğit ...\n",
      "\n",
      "Name: Yigit Ihlamur, Vela Partners LLC: Profile and Biography\n",
      "URL: https://www.bloomberg.com/profile/person/21639808\n",
      "Snippet: Yigit Ihlamur is General Partner/Co-Founder at Vela Partners LLC. See Yigit Ihlamur's compensation, career history, education, & memberships.\n",
      "\n",
      "Name: Yigit Ihlamur Profile: Contact Information & Network | PitchBook\n",
      "URL: https://pitchbook.com/profiles/person/193178-80P\n",
      "Snippet: Yigit Ihlamur General Information Biography. Mr. Yigit Ihlamur is a Co-Founder and serves as a General Partner at Vela Partners. He also serves as an Advisor at Incubate Fund US. He serves as Board Observer at Cartken and DagKnows. Prior to becoming a partner of Vela, he worked in Google's Cloud division, at the company's headquarters in ...\n",
      "\n",
      "Name: VC Talks #1: Yigit Ihlamur, Vela Partners - Medium\n",
      "URL: https://medium.com/vc-talks/vc-talks-1-yigit-ihlamur-vela-partners-4223f4a8e807\n",
      "Snippet: I’m very excited to have Yigit Ihlamur for the first ever episode. Yigit is the co-founder and general partner of Vela Partners.. Vela Partners is pioneering an innovative way of investing in ...\n",
      "\n",
      "Name: Yigit Ihlamur Investor Profile: Portfolio & Exits | PitchBook\n",
      "URL: https://pitchbook.com/profiles/investor/432763-12\n",
      "Snippet: Yigit Ihlamur General Information Description. Mr. Yigit Ihlamur is a Co-Founder and serves as a General Partner at Vela Partners. He also serves as an Advisor at Incubate Fund US. He serves as Board Observer at Cartken and DagKnows. Prior to becoming a partner of Vela, he worked in Google's Cloud division, at the company's headquarters in ...\n",
      "\n"
     ]
    }
   ],
   "source": [
    "for result in search_results[\"webPages\"][\"value\"][:5]:\n",
    "   print(f\"Name: {result['name']}\\nURL: {result['url']}\\nSnippet: {result['snippet']}\\n\")"
   ]
  },
  {
   "cell_type": "markdown",
   "metadata": {},
   "source": [
    "##### Bing Entity Search API Testing"
   ]
  },
  {
   "cell_type": "code",
   "execution_count": 22,
   "metadata": {},
   "outputs": [],
   "source": [
    "subscription_key = os.environ['BING_SEARCH_V7_SUBSCRIPTION_KEY']\n",
    "endpoint = os.environ['BING_SEARCH_V7_ENDPOINT'] + \"/v7.0/entities\"\n",
    "\n",
    "# query = '\"Hristo Stoichkov\"'\n",
    "\n",
    "# Construct a request\n",
    "params = { 'q': f'\"{query}\"', 'mkt': 'en-US' } # \"count\": 10\n",
    "headers = { 'Ocp-Apim-Subscription-Key': subscription_key }\n",
    "\n",
    "# Call the API\n",
    "try:\n",
    "   response = requests.get(endpoint, headers=headers, params=params)\n",
    "   response.raise_for_status()\n",
    "\n",
    "   search_results_entities = response.json()\n",
    "\n",
    "   if \"entities\" in search_results_entities:\n",
    "      for entity in search_results_entities[\"entities\"][\"value\"]:\n",
    "         print(f\"Name: {entity['name']}\\nURL: {entity['webSearchUrl']}\\nDescription: {entity['description']}\\n\")\n",
    "\n",
    "except Exception as ex:\n",
    "   # print(search_results_entities)\n",
    "   raise ex"
   ]
  },
  {
   "cell_type": "markdown",
   "metadata": {},
   "source": [
    "##### Web Scraping - BeautifulSoup"
   ]
  },
  {
   "cell_type": "code",
   "execution_count": null,
   "metadata": {},
   "outputs": [],
   "source": []
  },
  {
   "cell_type": "markdown",
   "metadata": {},
   "source": [
    "##### Combine Search Results"
   ]
  },
  {
   "cell_type": "code",
   "execution_count": 23,
   "metadata": {},
   "outputs": [
    {
     "name": "stdout",
     "output_type": "stream",
     "text": [
      "work: vela.partners<br>personal: www.ihlamur.org · Experience: Vela Partners · Education: University of Oxford · Location: San Francisco Bay Area · 500+ connections on LinkedIn. View Yiğit ...\n",
      "\n",
      "Yigit Ihlamur is General Partner/Co-Founder at Vela Partners LLC. See Yigit Ihlamur's compensation, career history, education, & memberships.\n",
      "\n",
      "Yigit Ihlamur General Information Biography. Mr. Yigit Ihlamur is a Co-Founder and serves as a General Partner at Vela Partners. He also serves as an Advisor at Incubate Fund US. He serves as Board Observer at Cartken and DagKnows. Prior to becoming a partner of Vela, he worked in Google's Cloud division, at the company's headquarters in ...\n",
      "\n",
      "I’m very excited to have Yigit Ihlamur for the first ever episode. Yigit is the co-founder and general partner of Vela Partners.. Vela Partners is pioneering an innovative way of investing in ...\n",
      "\n",
      "Yigit Ihlamur General Information Description. Mr. Yigit Ihlamur is a Co-Founder and serves as a General Partner at Vela Partners. He also serves as an Advisor at Incubate Fund US. He serves as Board Observer at Cartken and DagKnows. Prior to becoming a partner of Vela, he worked in Google's Cloud division, at the company's headquarters in ...\n",
      "\n",
      "\n"
     ]
    }
   ],
   "source": [
    "combined_search_results = \"\"\n",
    "\n",
    "for result in search_results[\"webPages\"][\"value\"][:5]:\n",
    "   combined_search_results += f\"{result['snippet']}\\n\\n\"\n",
    "\n",
    "if \"entities\" in search_results_entities:\n",
    "   for entity in search_results_entities[\"entities\"][\"value\"]:\n",
    "      combined_search_results += f\"{entity['description']}\\n\\n\"\n",
    "\n",
    "print(combined_search_results)"
   ]
  },
  {
   "cell_type": "markdown",
   "metadata": {},
   "source": [
    "### NLP processing - GPT"
   ]
  },
  {
   "cell_type": "markdown",
   "metadata": {},
   "source": [
    "##### Plan"
   ]
  },
  {
   "cell_type": "markdown",
   "metadata": {},
   "source": [
    "1. Summarize the search information - 128k context window so might not need it - however, it might be helpful if it helps the LLM to be more precise\n",
    "\n",
    "2. Identify Entities - identify all unique entities related to X mentioned in the text. This includes organizations, awards, clubs, people, and other specific entities: \"Given the text, identify all unique specific entities (organizations, awards, clubs, and teams) mentioned in relation to X.\"\n",
    "3. Extract Relationships - once you have a list of entities, extract relationships between X and these entities. Clearly state the format of the relationships (with example) and the constraints for the relationships (e.g., maximum of two words, the relationship should be a verb or a noun): \"For each entity identified related to X, extract the relationship between them and X. The relationship should be expressed in a maximum of two words, and the output format should be 'X - relationship - entity'. Focus on relationships where the entity is a specific organization, award, person, or professional affiliation.\"\n",
    "   - Relationships can be between the Entities found and other entities in the text\n",
    "4. Refinement (optional) - if the relationships extracted are too broad or not in the specified format, you can further refine the prompt to narrow down the responses or adjust the relationship descriptions: \"Refine the previously extracted relationships to ensure they follow the specified format strictly 'X - relationship - entity' and the relationship is described in no more than two words. Simplify complex descriptions if necessary.\"\n",
    "5. Follow-up Questions: \"For the entity [Entity Name] related to X, identified from the provided information, describe the nature of the relationship in no more than two words, following the format 'X - [relationship] - [Entity Name].' Focus on specific organizations, awards, professional affiliations, etc.\"\n",
    "   - !!! Important followw-up questions - for any of the discovered entities find if they have relationships to other entities in the provided information\n",
    "6. Verify and Validate: \"Verify the completeness and accuracy of the relationships extracted. If any relationship is missing or inaccurately described, correct it based on the information provided.\"\n",
    "7. Remove Duplicates"
   ]
  },
  {
   "cell_type": "code",
   "execution_count": null,
   "metadata": {},
   "outputs": [],
   "source": [
    "example_data = \"\"\"Hristo Stoichkov Stoichkov is a Bulgarian former professional footballer who is a football commentator for TUDN. A prolific forward, he is regarded as one of the best forwards of all time, and as the greatest Bulgarian footballer of all time. He was runner-up for the FIFA World Player of the Year award in 1992 and 1994, and received the Ballon d'Or in 1994. In 2004, Stoichkov was named by Pelé in the FIFA 100 list of the world's greatest living players.\n",
    "\n",
    "Transfermarkt provides detailed information on Hristo Stoichkov, a former left winger who played for CSKA-Sofia, Barcelona, D.C. United and the Bulgarian national team. See his stats, awards, career history, gallery and more.\"\"\""
   ]
  },
  {
   "cell_type": "code",
   "execution_count": 26,
   "metadata": {},
   "outputs": [
    {
     "name": "stdout",
     "output_type": "stream",
     "text": [
      "{\n",
      "  \"relationships\": [\n",
      "    {\"src\": \"Yigit Ihlamur\", \"relationship\": \"works at\", \"tgt\": \"Vela Partners\"},\n",
      "    {\"src\": \"Yigit Ihlamur\", \"relationship\": \"website\", \"tgt\": \"www.ihlamur.org\"},\n",
      "    {\"src\": \"Yigit Ihlamur\", \"relationship\": \"educated at\", \"tgt\": \"University of Oxford\"},\n",
      "    {\"src\": \"Yigit Ihlamur\", \"relationship\": \"located in\", \"tgt\": \"San Francisco Bay Area\"},\n",
      "    {\"src\": \"Yigit Ihlamur\", \"relationship\": \"previous employer\", \"tgt\": \"Google\"},\n",
      "    {\"src\": \"Yigit Ihlamur\", \"relationship\": \"advisor at\", \"tgt\": \"Incubate Fund US\"},\n",
      "    {\"src\": \"Yigit Ihlamur\", \"relationship\": \"board observer at\", \"tgt\": \"Cartken\"},\n",
      "    {\"src\": \"Yigit Ihlamur\", \"relationship\": \"board observer at\", \"tgt\": \"DagKnows\"}\n",
      "  ]\n",
      "}\n"
     ]
    }
   ],
   "source": [
    "from nlpProcessing import extractRelationshipsDirectly, textToJson\n",
    "\n",
    "_, output = extractRelationshipsDirectly(query=query, data=combined_search_results, model=\"gpt-4-turbo-preview\")\n",
    "\n",
    "relationships = textToJson(data=output.content, model=\"gpt-3.5-turbo\")\n",
    "\n",
    "print(relationships)\n"
   ]
  },
  {
   "cell_type": "code",
   "execution_count": 25,
   "metadata": {},
   "outputs": [
    {
     "name": "stdout",
     "output_type": "stream",
     "text": [
      "{\n",
      "  \"relationships\": [\n",
      "    {\"src\": \"Yigit Ihlamur\", \"relationship\": \"Co-Founder\", \"tgt\": \"Vela Partners\"},\n",
      "    {\"src\": \"Yigit Ihlamur\", \"relationship\": \"General Partner\", \"tgt\": \"Vela Partners LLC\"},\n",
      "    {\"src\": \"Yigit Ihlamur\", \"relationship\": \"Alumnus\", \"tgt\": \"University of Oxford\"},\n",
      "    {\"src\": \"Yigit Ihlamur\", \"relationship\": \"Located in\", \"tgt\": \"San Francisco Bay Area\"},\n",
      "    {\"src\": \"Yigit Ihlamur\", \"relationship\": \"Has connections on\", \"tgt\": \"LinkedIn\"},\n",
      "    {\"src\": \"Yigit Ihlamur\", \"relationship\": \"Owns\", \"tgt\": \"www.ihlamur.org\"},\n",
      "    {\"src\": \"Yigit Ihlamur\", \"relationship\": \"Advisor\", \"tgt\": \"Incubate Fund US\"},\n",
      "    {\"src\": \"Yigit Ihlamur\", \"relationship\": \"Board Observer\", \"tgt\": \"Cartken\"},\n",
      "    {\"src\": \"Yigit Ihlamur\", \"relationship\": \"Board Observer\", \"tgt\": \"DagKnows\"},\n",
      "    {\"src\": \"Yigit Ihlamur\", \"relationship\": \"Former Employee\", \"tgt\": \"Google's Cloud division\"}\n",
      "  ]\n",
      "}\n"
     ]
    }
   ],
   "source": [
    "from nlpProcessing import extractEntities, extractRelationshipsFromEntities, textToJson\n",
    "\n",
    "context, output = extractEntities(query=query, data=combined_search_results, model=\"gpt-4-turbo-preview\")\n",
    "\n",
    "context.append(output)\n",
    "\n",
    "_, output = extractRelationshipsFromEntities(query=query, context=context, model=\"gpt-4-turbo-preview\")\n",
    "\n",
    "relationships = textToJson(data=output.content, model=\"gpt-3.5-turbo\")\n",
    "\n",
    "print(relationships)"
   ]
  },
  {
   "cell_type": "markdown",
   "metadata": {},
   "source": [
    "### NLP Processing - spaCy"
   ]
  },
  {
   "cell_type": "code",
   "execution_count": 61,
   "metadata": {},
   "outputs": [
    {
     "name": "stdout",
     "output_type": "stream",
     "text": [
      "[('Stoichkov Stoichkov', 'PERSON', pronounced), ('ˈxristo stoˈit͡ʃkof', 'PERSON', pronounced), ('8 February 1966', 'DATE', born), ('2', 'CARDINAL', regarded)]\n",
      "[('Hristo Stoichkov', 'PERSON', noted), ('February 8, 1966', 'DATE', born), ('Stoichkov', 'PERSON', began)]\n",
      "[]\n",
      "[]\n",
      "[('Hristo Stoichkov', 'PERSON', remembers), ('FIF', 'ORG', winning)]\n",
      "[('Hristo Stoichkov', 'PERSON', celebrates), ('Stoichkov', 'PERSON', admire)]\n",
      "[('30 years ago', 'DATE', put), ('3 May 1990', 'DATE', put)]\n",
      "[('50', 'DATE', turned), ('Stoichkov', 'PERSON', organized)]\n",
      "[]\n",
      "[('Hristo Stoichkov', 'PERSON', played)]\n",
      "[('Stoichkov', 'PERSON', named)]\n"
     ]
    }
   ],
   "source": [
    "import spacy\n",
    "\n",
    "# Load a pre-trained model\n",
    "nlp = spacy.load(\"en_core_web_sm\")\n",
    "# nlp = spacy.load(\"en_core_web_trf\") # for accuracy\n",
    "\n",
    "def extract_entities(text):\n",
    "   doc = nlp(text)\n",
    "   entities = [(ent.text, ent.label_, ent.root.head) for ent in doc.ents if ent.root.head.pos_ == \"VERB\"]\n",
    "   return entities\n",
    "\n",
    "# Extract entities from search result snippets\n",
    "for snippet in [result[\"snippet\"] for result in search_results[\"webPages\"][\"value\"]]:\n",
    "   entities = extract_entities(snippet)\n",
    "   print(entities)\n",
    "\n",
    "# Extract entities from the entity search result descriptions\n",
    "for description in [entity['description'] for entity in search_results_entities[\"entities\"][\"value\"]]:\n",
    "   entities = extract_entities(description)\n",
    "   print(entities)\n"
   ]
  },
  {
   "cell_type": "code",
   "execution_count": 62,
   "metadata": {},
   "outputs": [
    {
     "name": "stdout",
     "output_type": "stream",
     "text": [
      "[('Stoichkov', 'Hristo', 'compound'), ('Stoichkov', 'Stoichkov', 'compound'), ('Stoichkov', 'Bulgarian', 'appos'), ('Stoichkov', 'Стоичков', 'appos'), ('Bulgarian', '(', 'punct'), ('Bulgarian', ':', 'punct'), ('Стоичков', 'Христо', 'compound'), ('Стоичков', 'Стоичков', 'compound'), ('Стоичков', ',', 'punct'), ('pronounced', 'Stoichkov', 'nsubj'), ('pronounced', '[', 'dep'), ('pronounced', 'ˈxristo', 'oprd'), ('pronounced', 'stoˈit͡ʃkof', 'dobj'), ('pronounced', ']', 'punct'), ('pronounced', ';', 'punct'), ('pronounced', 'born', 'conj'), ('born', 'February', 'npadvmod'), ('born', ')', 'punct'), ('February', '8', 'nummod'), ('February', '1966', 'nummod'), ('is', 'pronounced', 'csubj'), ('is', 'footballer', 'attr'), ('is', '.', 'punct'), ('footballer', 'a', 'det'), ('footballer', 'Bulgarian', 'amod'), ('footballer', 'former', 'amod'), ('footballer', 'professional', 'amod'), ('footballer', 'is', 'relcl'), ('is', 'who', 'nsubj'), ('is', 'commentator', 'attr'), ('commentator', 'a', 'det'), ('commentator', 'football', 'compound'), ('commentator', 'for', 'prep'), ('for', 'TUDN', 'pobj'), ('forward', 'A', 'det'), ('forward', 'prolific', 'amod'), ('regarded', 'forward', 'advmod'), ('regarded', ',', 'punct'), ('regarded', 'he', 'nsubjpass'), ('regarded', 'is', 'auxpass'), ('regarded', 'as', 'prep'), ('regarded', ',', 'punct'), ('regarded', '[', 'dep'), ('regarded', '2', 'dep'), ('regarded', 'and', 'cc'), ('regarded', 'as', 'conj'), ('regarded', '...', 'punct'), ('as', 'one', 'pobj'), ('one', 'of', 'prep'), ('of', 'forwards', 'pobj'), ('forwards', 'the', 'det'), ('forwards', 'best', 'amod'), ('forwards', 'of', 'prep'), ('of', 'time', 'pobj'), ('time', 'all', 'det'), ('2', ']', 'punct'), ('as', 'Bulgarian', 'pobj'), ('Bulgarian', 'the', 'det'), ('Bulgarian', 'greatest', 'amod')]\n",
      "[('Stoichkov', 'Hristo', 'compound'), ('Stoichkov', '(', 'punct'), ('Stoichkov', 'born', 'acl'), ('Stoichkov', ',', 'punct'), ('born', 'February', 'npadvmod'), ('February', '8', 'nummod'), ('February', ',', 'punct'), ('February', '1966', 'nummod'), ('February', ',', 'punct'), ('February', 'Plovdiv', 'conj'), ('February', 'was', 'relcl'), ('Plovdiv', ',', 'punct'), ('Plovdiv', 'Bulgaria', 'npadvmod'), ('Plovdiv', ')', 'punct'), ('Plovdiv', 'football', 'conj'), ('football', 'Bulgarian', 'amod'), ('football', '(', 'punct'), ('football', 'player', 'appos'), ('player', 'soccer', 'nmod'), ('player', ')', 'punct'), ('was', 'who', 'nsubj'), ('was', 'striker', 'attr'), ('striker', 'an', 'det'), ('striker', 'explosive', 'amod'), ('noted', 'Stoichkov', 'nsubj'), ('noted', 'for', 'prep'), ('noted', '..', 'punct'), ('for', 'competitiveness', 'pobj'), ('competitiveness', 'his', 'poss'), ('competitiveness', 'fierce', 'amod'), ('began', 'Stoichkov', 'nsubj'), ('began', 'career', 'dobj'), ('began', 'early', 'advmod'), ('began', '.', 'punct'), ('career', 'his', 'poss'), ('career', 'soccer', 'compound'), ('By', 'age', 'pobj'), ('age', '12', 'nummod'), ('playing', 'By', 'prep'), ('playing', 'he', 'nsubj'), ('playing', 'was', 'aux'), ('playing', 'for', 'prep'), ('playing', 'in', 'prep'), ('playing', '.', 'punct'), ('for', 'Plovdiv', 'pobj'), ('Plovdiv', 'Maritza', 'compound'), ('in', 'division', 'pobj'), ('division', 'the', 'det'), ('division', 'Bulgarian', 'amod'), ('division', 'second', 'amod'), ('division', ',', 'punct'), ('division', 'earned', 'relcl'), ('scoring', 'goal', 'npadvmod'), ('scoring', '-', 'punct'), ('prowess', 'his', 'poss'), ('prowess', 'scoring', 'compound'), ('earned', 'where', 'advmod'), ('earned', 'prowess', 'nsubj'), ('earned', 'him', 'dative'), ('earned', 'contract', 'dobj'), ('earned', 'in', 'prep'), ('contract', 'a', 'det'), ('contract', 'with', 'prep'), ('with', 'Sofia', 'pobj'), ('Sofia', 'the', 'det'), ('Sofia', 'powerful', 'amod'), ('Sofia', 'CSKA', 'compound'), ('in', '1984', 'pobj')]\n",
      "[('Stoichkov', 'Hristo', 'nmod'), ('footballer', 'Stoichkov', 'nmod'), ('footballer', 'former', 'amod'), ('footballer', 'from', 'prep'), ('from', 'Bulgaria', 'pobj'), ('Left', 'footballer', 'nsubj'), ('Left', 'Winger', 'dobj'), ('Left', 'club', 'npadvmod'), ('Left', ':', 'punct'), ('Left', 'D.C.', 'appos'), ('club', 'last', 'amod'), ('United', '*', 'punct'), ('Feb', 'United', 'nmod'), ('Feb', '8', 'nummod'), ('Feb', ',', 'punct'), ('Feb', '1966', 'appos'), ('Feb', 'in', 'prep'), ('in', 'Plovdiv', 'pobj'), ('Plovdiv', ',', 'punct'), ('Plovdiv', 'Bulgaria', 'appos')]\n",
      "[('Stoichkov', 'Hristo', 'compound'), ('was', 'Stoichkov', 'nsubj'), ('was', 'scorer', 'attr'), ('was', 'at', 'prep'), ('top', 'joint', 'amod'), ('top', '-', 'punct'), ('scorer', 'the', 'det'), ('scorer', 'top', 'amod'), ('at', 'Cup', 'pobj'), ('Cup', 'the', 'det'), ('Cup', '1994', 'nummod'), ('Cup', 'FIFA', 'compound'), ('Cup', 'World', 'compound'), ('striker', 'The', 'det'), ('striker', 'Bulgarian', 'amod'), ('won', 'striker', 'nsubj'), ('won', \"d'Or\", 'dobj'), ('won', 'in', 'prep'), (\"d'Or\", 'Ballon', 'compound'), ('in', '1994', 'pobj'), ('won', 'won', 'ccomp'), ('won', 'He', 'nsubj'), ('won', 'titles', 'dobj'), ('won', '.', 'punct'), ('Liga', 'La', 'compound'), ('titles', 'four', 'nummod'), ('titles', 'Liga', 'compound'), ('titles', 'and', 'cc'), ('titles', 'League', 'conj'), ('League', 'one', 'nummod'), ('League', 'Champions', 'compound'), ('League', 'with', 'prep'), ('with', 'Barcelona', 'pobj')]\n",
      "[('talent', 'A', 'det'), ('talent', 'thrilling', 'compound'), ('talent', 'in', 'prep'), ('talent', 'remembers', 'conj'), ('in', 'day', 'pobj'), ('day', 'his', 'poss'), ('Stoichkov', 'Hristo', 'compound'), ('remembers', ',', 'punct'), ('remembers', 'Stoichkov', 'nsubj'), ('remembers', 'to', 'prep'), ('remembers', 'at', 'prep'), ('remembers', ',', 'punct'), ('remembers', 'and', 'cc'), ('remembers', 'winning', 'conj'), ('remembers', '...', 'punct'), ('to', 'Football', 'pobj'), ('Football', 'FIFA', 'compound'), ('Football', 'about', 'prep'), ('about', 'run', 'pobj'), ('Bulgaria', \"'s\", 'case'), ('run', 'Bulgaria', 'poss'), ('run', 'super', 'amod'), ('at', 'USA', 'pobj'), ('Cup', 'World', 'compound'), ('USA', 'the', 'det'), ('USA', '1994', 'nummod'), ('USA', 'FIFA', 'compound'), ('USA', 'Cup', 'compound'), ('winning', 'his', 'nsubj'), ('winning', 'FIF', 'dobj'), ('FIF', 'the', 'det')]\n",
      "[('Stoichkov', 'Hristo', 'compound'), ('celebrates', 'Stoichkov', 'nsubj'), ('celebrates', 'goal', 'dobj'), ('celebrates', '94', 'punct'), ('goal', 'his', 'poss'), ('goal', 'against', 'prep'), ('goal', 'at', 'prep'), ('against', 'Germany', 'pobj'), ('at', 'USA', 'pobj'), ('USA', \"'\", 'case'), ('Images', 'Getty', 'compound'), ('Mourinho', '©', 'compound'), ('Mourinho', 'Images', 'compound'), ('Mourinho', 'José', 'compound'), ('is', 'Mourinho', 'nsubj'), ('is', 'another', 'attr'), ('is', ',', 'punct'), ('is', 'saying', 'advcl'), ('is', '.', 'punct'), ('another', 'had', 'relcl'), ('had', 'who', 'nsubj'), ('had', 'chance', 'dobj'), ('chance', 'the', 'det'), ('chance', 'admire', 'acl'), ('admire', 'to', 'aux'), ('admire', 'Stoichkov', 'dobj'), ('admire', 'at', 'prep'), ('at', 'hand', 'pobj'), ('hand', 'first', 'amod'), ('saying', ':', 'punct'), ('saying', '\"', 'punct'), ('saying', 'is', 'ccomp'), ('is', 'He', 'nsubj'), ('is', 'giant', 'attr'), ('giant', 'a', 'det'), ('giant', 'real', 'amod')]\n",
      "[('STOICHKOV', 'HRISTO', 'compound'), ('STOICHKOV', '.', 'punct'), ('12:11am', 'Sunday', 'npadvmod'), ('Sunday', '03', 'nummod'), ('May', '12:11am', 'compound'), ('May', '.', 'punct'), ('Team', 'First', 'compound'), ('Team', '.', 'punct'), ('May', '03', 'nummod'), ('May', '20', 'nummod'), ('May', '.', 'punct'), ('30', 'Exactly', 'advmod'), ('years', '30', 'nummod'), ('ago', 'years', 'npadvmod'), ('May', '3', 'nummod'), ('May', '1990', 'nummod'), ('put', 'ago', 'advmod'), ('put', ',', 'punct'), ('put', 'May', 'npadvmod'), ('put', ',', 'punct'), ('put', 'I', 'nsubj'), ('put', 'pen', 'dobj'), ('put', 'to', 'prep'), ('put', 'on', 'prep'), ('put', 'made', 'advcl'), ('put', '...', 'punct'), ('to', 'paper', 'pobj'), ('on', 'contract', 'pobj'), ('contract', 'my', 'poss'), ('made', 'which', 'nsubj'), ('made', 'player', 'ccomp'), ('Barcelona', 'FC', 'compound'), ('player', 'me', 'nsubj'), ('player', 'an', 'det'), ('player', 'Barcelona', 'compound'), ('player', 'and', 'cc'), ('player', 'man', 'conj'), ('man', 'the', 'det'), ('man', 'happiest', 'amod'), ('man', 'on', 'prep'), ('on', 'the', 'pobj')]\n",
      "[('08/02/2016', '.', 'punct'), ('On', 'Stoichkov', 'pobj'), ('Stoichkov', '8th', 'amod'), ('Stoichkov', 'February', 'compound'), ('turned', 'On', 'prep'), ('turned', '50', 'dobj'), ('turned', '.', 'punct'), ('show', 'The', 'det'), ('show', 'real', 'amod'), ('came', 'show', 'nsubj'), ('came', 'on', 'prep'), ('came', '.', 'punct'), ('on', 'May', 'pobj'), ('May', '20th', 'amod'), ('organized', 'Stoichkov', 'nsubj'), ('organized', 'game', 'dobj'), ('organized', ',', 'punct'), ('organized', 'inviting', 'advcl'), ('organized', '.', 'punct'), ('game', 'an', 'det'), ('game', 'incredible', 'amod'), ('game', 'beneficial', 'amod'), ('game', 'at', 'prep'), ('at', 'stadium', 'pobj'), ('Levski', 'Vasil', 'compound'), ('stadium', 'Levski', 'compound'), ('inviting', 'players', 'dobj'), ('players', 'many', 'amod'), ('players', 'great', 'amod'), ('match', 'The', 'det'), ('played', 'match', 'nsubjpass'), ('played', 'was', 'auxpass'), ('played', 'in', 'prep'), ('played', '.', 'punct'), ('in', 'front', 'pobj'), ('front', 'of', 'prep'), ('of', 'fans', 'pobj'), ('000', '43', 'quantmod'), ('000', ',', 'punct'), ('fans', '000', 'nummod'), ('stadium', 'The', 'det'), ('sold', 'stadium', 'nsubjpass'), ('sold', 'was', 'auxpass'), ('sold', 'out', 'prt'), ('sold', 'before', 'advmod'), ('sold', '.', 'punct'), ('before', 'weeks', 'npadvmod'), ('8HRISTO', 'ONLINE', 'compound'), ('8HRISTO', 'STORE', 'compound'), ('8HRISTO', '.', 'punct'), ('find', 'Here', 'advmod'), ('find', 'you', 'nsubj'), ('find', 'will', 'aux'), ('find', 'brand', 'dobj'), ('find', '...', 'punct'), ('brand', 'the', 'det'), ('brand', 'sports', 'compound'), ('brand', 'of', 'prep'), ('of', 'legend', 'pobj'), ('legend', 'the', 'det')]\n",
      "[('Explosive', 'and', 'cc'), ('Explosive', 'beloved', 'conj'), ('Explosive', '.', 'punct'), ('striker', 'Bulgarian', 'amod'), ('striker', 'arrived', 'relcl'), ('striker', '.', 'punct'), ('arrived', 'who', 'nsubj'), ('arrived', 'at', 'prep'), ('arrived', 'from', 'prep'), ('arrived', ',', 'punct'), ('arrived', 'famous', 'acomp'), ('at', 'Barça', 'pobj'), ('from', 'Sofia', 'pobj'), ('Sofia', 'CSKA', 'compound'), ('famous', 'for', 'prep'), ('for', 'spirit', 'pobj'), ('spirit', 'his', 'poss'), ('spirit', 'fighting', 'compound'), ('spirit', 'and', 'cc'), ('spirit', 'charisma', 'conj'), ('had', 'He', 'nsubj'), ('had', 'skill', 'dobj'), ('had', 'and', 'cc'), ('had', 'was', 'conj'), ('had', '...', 'punct'), ('skill', 'immense', 'amod'), ('skill', ',', 'punct'), ('skill', 'shot', 'appos'), ('shot', 'a', 'det'), ('shot', 'great', 'amod'), ('was', 'taker', 'attr'), ('was', 'as', 'prep'), ('kick', 'free', 'amod'), ('taker', 'a', 'det'), ('taker', 'superb', 'compound'), ('taker', 'kick', 'compound'), ('taker', ',', 'punct')]\n",
      "[('Stoichkov', 'Hristo', 'compound'), ('played', 'Stoichkov', 'nsubj'), ('played', 'with', 'prep'), ('played', '.', 'punct'), ('with', 'edge', 'pobj'), ('edge', 'an', 'det'), ('edge', 'intimidating', 'amod'), ('edge', 'win', 'relcl'), ('win', 'that', 'nsubj'), ('win', 'could', 'aux'), ('win', 'both', 'preconj'), ('win', 'games', 'dobj'), ('win', 'and', 'cc'), ('win', 'cross', 'conj'), ('cross', 'line', 'dobj'), ('line', 'an', 'det'), ('line', 'unforgivable', 'amod'), ('was', 'He', 'nsubj'), ('was', 'player', 'attr'), ('was', '...', 'punct'), ('explosive', 'and', 'cc'), ('explosive', 'technical', 'conj'), ('technical', 'highly', 'advmod'), ('player', 'an', 'det'), ('player', 'explosive', 'amod'), ('player', 'dominated', 'relcl'), ('dominated', 'who', 'nsubj'), ('dominated', 'era', 'dobj'), ('era', 'a', 'det'), ('era', 'bygone', 'amod'), ('era', 'of', 'prep'), ('of', 'sport', 'pobj'), ('sport', 'the', 'det')]\n"
     ]
    }
   ],
   "source": [
    "def extract_entities(text):\n",
    "   doc = nlp(text)\n",
    "   entities = [(ent.text, ent.label_) for ent in doc.ents]\n",
    "   relationships = []\n",
    "   for token in doc:\n",
    "      for child in token.children:\n",
    "         relationships.append((token.text, child.text, child.dep_))\n",
    "   # for sentence in doc.sents:\n",
    "   #    root = list(sentence.roots)[0]  # Get the sentence root\n",
    "   #    for dep in sentence.deps:\n",
    "   #       if dep[1] in [\"subj\", \"obj\"]:  # Consider subject/object dependencies\n",
    "   #          relationships.append((dep[0].text, root.text, dep[1]))\n",
    "   return entities, relationships\n",
    "\n",
    "# Extract entities from search result snippets\n",
    "for snippet in [result[\"snippet\"] for result in search_results[\"webPages\"][\"value\"]]:\n",
    "   entities, relationships = extract_entities(snippet)\n",
    "   # print(entities)\n",
    "   print(relationships)\n",
    "\n",
    "\n",
    "      "
   ]
  },
  {
   "cell_type": "markdown",
   "metadata": {},
   "source": [
    "### Knowledge Graph Builder"
   ]
  },
  {
   "cell_type": "code",
   "execution_count": 4,
   "metadata": {},
   "outputs": [],
   "source": [
    "entities = [\"Hristo Stoichkov\", \"TUDN\", \"FIFA World Player of the Year award (1992, 1994)\", \"Ballon d'Or (1994)\", \"FIFA 100 (2004)\", \"CSKA-Sofia\", \"Barcelona\", \"D.C. United\", \"the Bulgarian national team\"]\n",
    "relationships = [\n",
    "   (\"Hristo Stoichkov\", \"TUDN\", \"commentator for\"),\n",
    "   (\"Hristo Stoichkov\", \"FIFA Player of the Year award (1992, 1994)\", \"runner-up\"),\n",
    "   (\"Hristo Stoichkov\", \"Ballon d'Or (1994)\", \"received\"),\n",
    "   (\"Hristo Stoichkov\", \"FIFA 100 (2004)\", \"included in\"),\n",
    "   (\"Hristo Stoichkov\", \"CSKA-Sofia\", \"played for\"),\n",
    "   (\"Hristo Stoichkov\", \"Barcelona\", \"played for\"),\n",
    "   (\"Hristo Stoichkov\", \"D.C. United\", \"played for\"),\n",
    "   (\"Hristo Stoichkov\", \"the Bulgarian national team\", \"represented\"),\n",
    "   (\"Hristo Stoichkov\", \"D.C. United\", \"owns\"),\n",
    "]\n"
   ]
  },
  {
   "cell_type": "markdown",
   "metadata": {},
   "source": [
    "##### Using matplotlib with NetworkX"
   ]
  },
  {
   "cell_type": "code",
   "execution_count": 8,
   "metadata": {},
   "outputs": [
    {
     "data": {
      "image/png": "[encoded data removed]",
      "text/plain": [
       "<Figure size 1000x1000 with 1 Axes>"
      ]
     },
     "metadata": {},
     "output_type": "display_data"
    }
   ],
   "source": [
    "# %load_ext autoreload\n",
    "# %autoreload 2\n",
    "\n",
    "from knowledgeGraph import KnowledgeGraph, KnowledgeGraphVisualizer\n",
    "\n",
    "knowledgeGraph = KnowledgeGraph(entities, relationships)\n",
    "\n",
    "knowledgeGraphVisualizer = KnowledgeGraphVisualizer(knowledgeGraph)\n",
    "knowledgeGraphVisualizer.visualize(highlight_entities=[\"Hristo Stoichkov\"])"
   ]
  },
  {
   "cell_type": "markdown",
   "metadata": {},
   "source": [
    "##### Using GraphViz"
   ]
  },
  {
   "cell_type": "code",
   "execution_count": 207,
   "metadata": {},
   "outputs": [
    {
     "ename": "ModuleNotFoundError",
     "evalue": "No module named 'graphviz'",
     "output_type": "error",
     "traceback": [
      "\u001b[1;31m---------------------------------------------------------------------------\u001b[0m",
      "\u001b[1;31mModuleNotFoundError\u001b[0m                       Traceback (most recent call last)",
      "Cell \u001b[1;32mIn [207], line 1\u001b[0m\n\u001b[1;32m----> 1\u001b[0m \u001b[38;5;28;01mfrom\u001b[39;00m \u001b[38;5;21;01mgraphviz\u001b[39;00m \u001b[38;5;28;01mimport\u001b[39;00m Digraph\n\u001b[0;32m      2\u001b[0m \u001b[38;5;66;03m# Create Digraph object\u001b[39;00m\n\u001b[0;32m      3\u001b[0m dot \u001b[38;5;241m=\u001b[39m Digraph()\n",
      "\u001b[1;31mModuleNotFoundError\u001b[0m: No module named 'graphviz'"
     ]
    }
   ],
   "source": [
    "from graphviz import Digraph\n",
    "# Create Digraph object\n",
    "dot = Digraph()\n",
    "# Add nodes 1 and 2\n",
    "dot.node('1')\n",
    "dot.node('2')\n",
    "\n",
    "# Add edge between 1 and 2\n",
    "dot.edges(['12'])\n",
    "# Visualize the graph\n",
    "dot"
   ]
  }
 ],
 "metadata": {
  "kernelspec": {
   "display_name": "new",
   "language": "python",
   "name": "python3"
  },
  "language_info": {
   "codemirror_mode": {
    "name": "ipython",
    "version": 3
   },
   "file_extension": ".py",
   "mimetype": "text/x-python",
   "name": "python",
   "nbconvert_exporter": "python",
   "pygments_lexer": "ipython3",
   "version": "3.10.10"
  }
 },
 "nbformat": 4,
 "nbformat_minor": 2
}
