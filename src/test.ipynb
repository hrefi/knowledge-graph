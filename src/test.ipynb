{
 "cells": [
  {
   "cell_type": "code",
   "execution_count": 1,
   "metadata": {},
   "outputs": [],
   "source": [
    "from dataRetrieval import retrieve_data\n",
    "from dataAnalysis import extract_entities, extract_relationships_from_entities, extract_relationships_directly\n",
    "import time"
   ]
  },
  {
   "cell_type": "markdown",
   "metadata": {},
   "source": [
    "### Compare the two approaches used to extract entities and relationships\n",
    "\n",
    "Approach 1: Using two prompts, one for extracting relevant entities and one for identifying he underlying relationships between them (for more details, see: extractEntities, extractRelationshipsFromEntities)\\\n",
    "Approach 2: Using one prompt to directly extract the connections between the entities (for more details, see: extractRelationshipsDirectly)"
   ]
  },
  {
   "cell_type": "code",
   "execution_count": 2,
   "metadata": {},
   "outputs": [
    {
     "name": "stdout",
     "output_type": "stream",
     "text": [
      "Approach 1: [21.9, 26.7, 15.4, 17.1, 14.2, 15.7, 10.2, 9.8, 19.1, 17.8]\n",
      "Approach 2: [5.7, 8.0, 9.0, 8.7, 6.7, 8.1, 6.0, 4.7, 8.0, 3.9]\n"
     ]
    }
   ],
   "source": [
    "queries = [\"Yigit Ihlamur\", \"Elon Musk\", \"Donald Trump\", \"Revolut\", \"SpaceX\", \"Hugging Face\", \"Vela Partners\", \"Berbatov\", \"Anthropic\", \"Sam Altman\"]\n",
    "approach1 = []\n",
    "approach2 = []\n",
    "\n",
    "# The number of web search results returned by Bing\n",
    "num_web_results = 7\n",
    "\n",
    "for query in queries:\n",
    "   # Get information about the entity\n",
    "   query_data = retrieve_data(query=query, num_results=num_web_results, model=\"gpt-4-turbo-preview\")\n",
    "\n",
    "   \"\"\" APPROACH 1 \"\"\"\n",
    "   start_time = time.time()\n",
    "\n",
    "   context, output = extract_entities(query=query, data=query_data, model=\"gpt-4-turbo-preview\")\n",
    "   context.append(output)\n",
    "   extract_relationships_from_entities(query=query, context=context, model=\"gpt-4-turbo-preview\")\n",
    "\n",
    "   elapsed_time = time.time() - start_time\n",
    "   approach1.append(round(elapsed_time, 1))\n",
    "\n",
    "   \"\"\" APPROACH 2 \"\"\"\n",
    "   start_time = time.time()\n",
    "\n",
    "   extract_relationships_directly(query=query, data=query_data, model=\"gpt-4-turbo-preview\")\n",
    "   \n",
    "   elapsed_time = time.time() - start_time\n",
    "   approach2.append(round(elapsed_time, 1))\n",
    "\n",
    "print(\"Approach 1:\", approach1)\n",
    "print(\"Approach 2:\", approach2)"
   ]
  },
  {
   "cell_type": "code",
   "execution_count": 6,
   "metadata": {},
   "outputs": [
    {
     "name": "stdout",
     "output_type": "stream",
     "text": [
      "Mean Approach 1: 16.8\n",
      "Mean Approach 2: 6.9\n"
     ]
    }
   ],
   "source": [
    "mean_approach1 = sum(approach1)/len(approach1)\n",
    "mean_approach2 = sum(approach2)/len(approach2)\n",
    "\n",
    "print(\"Mean Approach 1:\", round(mean_approach1, 1))\n",
    "print(\"Mean Approach 2:\", round(mean_approach2, 1))"
   ]
  }
 ],
 "metadata": {
  "kernelspec": {
   "display_name": "new",
   "language": "python",
   "name": "python3"
  },
  "language_info": {
   "codemirror_mode": {
    "name": "ipython",
    "version": 3
   },
   "file_extension": ".py",
   "mimetype": "text/x-python",
   "name": "python",
   "nbconvert_exporter": "python",
   "pygments_lexer": "ipython3",
   "version": "3.10.10"
  }
 },
 "nbformat": 4,
 "nbformat_minor": 2
}
