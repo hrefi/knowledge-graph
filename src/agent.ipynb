{
 "cells": [
  {
   "cell_type": "code",
   "execution_count": 2,
   "metadata": {},
   "outputs": [
    {
     "data": {
      "text/plain": [
       "True"
      ]
     },
     "execution_count": 2,
     "metadata": {},
     "output_type": "execute_result"
    }
   ],
   "source": [
    "from dataRetrieval import process_input, bing_web_search, bing_entity_search\n",
    "from nlpProcessing import extract_entities, extract_relationships_from_entities, extract_relationships_directly, text_to_json, text_to_list\n",
    "from dotenv import load_dotenv\n",
    "\n",
    "load_dotenv()"
   ]
  },
  {
   "cell_type": "markdown",
   "metadata": {},
   "source": [
    "### Query Processing"
   ]
  },
  {
   "cell_type": "code",
   "execution_count": 2,
   "metadata": {},
   "outputs": [
    {
     "name": "stdout",
     "output_type": "stream",
     "text": [
      "Hristo Stoichkov\n"
     ]
    }
   ],
   "source": [
    "# user input\n",
    "query = process_input()"
   ]
  },
  {
   "cell_type": "markdown",
   "metadata": {},
   "source": [
    "### Data Retrieval and Preprocessing"
   ]
  },
  {
   "cell_type": "code",
   "execution_count": null,
   "metadata": {},
   "outputs": [],
   "source": [
    "# The number of web search results returned by Bing\n",
    "num_web_results = 7 "
   ]
  },
  {
   "cell_type": "code",
   "execution_count": null,
   "metadata": {},
   "outputs": [],
   "source": [
    "bing_web_search_results = bing_web_search(query, num_results=num_web_results)\n",
    "bing_entity_search_results = bing_entity_search(query)\n",
    "combined_search_results_snippets = []\n",
    "\n",
    "# retrieve top web searches snippets\n",
    "for result in bing_web_search_results[\"webPages\"][\"value\"]:\n",
    "   combined_search_results_snippets.append(str(result['snippet']))\n",
    "\n",
    "# retrieve entity information\n",
    "if \"entities\" in bing_entity_search_results:\n",
    "   for entity in bing_entity_search_results[\"entities\"][\"value\"]:\n",
    "      combined_search_results_snippets.append(str(entity['description']))\n",
    "\n",
    "# Flatten the list into a single string\n",
    "combined_search_results_snippets = '\\n\\n'.join(combined_search_results_snippets)"
   ]
  },
  {
   "cell_type": "markdown",
   "metadata": {},
   "source": [
    "### LLM Processing: Entities and Relations extraction"
   ]
  },
  {
   "cell_type": "markdown",
   "metadata": {},
   "source": [
    "### Building the Knowledge Graph"
   ]
  },
  {
   "cell_type": "markdown",
   "metadata": {},
   "source": [
    "##### Visualizing the Knowledge Graph"
   ]
  },
  {
   "cell_type": "markdown",
   "metadata": {},
   "source": [
    "##### Output JSON"
   ]
  },
  {
   "cell_type": "code",
   "execution_count": null,
   "metadata": {},
   "outputs": [],
   "source": []
  }
 ],
 "metadata": {
  "kernelspec": {
   "display_name": "new",
   "language": "python",
   "name": "python3"
  },
  "language_info": {
   "codemirror_mode": {
    "name": "ipython",
    "version": 3
   },
   "file_extension": ".py",
   "mimetype": "text/x-python",
   "name": "python",
   "nbconvert_exporter": "python",
   "pygments_lexer": "ipython3",
   "version": "3.10.10"
  }
 },
 "nbformat": 4,
 "nbformat_minor": 2
}
