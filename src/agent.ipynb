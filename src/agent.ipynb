{
 "cells": [
  {
   "cell_type": "code",
   "execution_count": 2,
   "metadata": {},
   "outputs": [],
   "source": [
    "from dataRetrieval import processInput\n",
    "from nlpProcessing import textToList\n",
    "from dotenv import load_dotenv\n",
    "\n",
    "load_dotenv()\n"
   ]
  },
  {
   "cell_type": "markdown",
   "metadata": {},
   "source": [
    "### Query Processing"
   ]
  },
  {
   "cell_type": "code",
   "execution_count": 2,
   "metadata": {},
   "outputs": [
    {
     "name": "stdout",
     "output_type": "stream",
     "text": [
      "Hristo Stoichkov\n"
     ]
    }
   ],
   "source": [
    "# user input\n",
    "query = processInput()"
   ]
  },
  {
   "cell_type": "markdown",
   "metadata": {},
   "source": [
    "- Identify Entities - identify all unique entities related to X mentioned in the text. This includes organizations, awards, clubs, people, and other specific entities: \"Given the text, identify all unique specific entities (organizations, awards, clubs, and teams) mentioned in relation to X.\"\n",
    "- Given the text, identify all unique specific entities (like organizations, awards, clubs, teams) mentioned in relation to Hristo Stoichkov.\n",
    "- Prompt the model to identify and list named entities related to Stoichkov, categorizing them into persons, organizations, awards, etc.\n",
    "- extract the relationships between X and various entities, adhering to the format \"entity from the input - relationship - entity from the text\"\n",
    "- identify all relevant entities and extract the relationships between Yigit Ihlamur and these entities in the specified format. Be concise and specific. Think step-by-step\n",
    "- extract all relevant entities from the information above and the relationships between Hristo Stoichkov and these entities. The output should be a list of relationships in the format \"entity from the input - relationship - entity from the text\". The relationship can be a verb (e.g., works, located, etc.) and sometimes a noun (e.g., co-worker, investment, etc.) and should be maximum 2 words. The entity from the text should be a specific entity, i.e. organization, award, person, professional affiliations, etc.\n",
    "- professional roles, educational background, investment activities, board positions, geographical location, and personal interests\n",
    "- Remove duplicate entities\n",
    "\n",
    "- Extract Relationships - once you have a list of entities, extract relationships between X and these entities. Clearly state the format of the relationships (with example) and the constraints for the relationships (e.g., maximum of two words, the relationship should be a verb or a noun): \"For each entity identified related to X, extract the relationship between them and X. The relationship should be expressed in a maximum of two words, and the output format should be 'X - relationship - entity'. Focus on relationships where the entity is a specific organization, award, person, or professional affiliation.\"\n",
    "- Follow-up Questions: \"For the entity [Entity Name] related to X, identified from the provided information, describe the nature of the relationship in no more than two words, following the format 'X - [relationship] - [Entity Name].' Focus on specific organizations, awards, professional affiliations, etc.\"\n",
    "- Clear Objectives: Clearly define what you mean by \"relationships\" and the specific types of relationships you're interested in (e.g., professional affiliations, awards, team memberships).\n",
    "- Design prompts that focus specifically on relationship extraction between entities: \"Identify and describe the relationship between Hristo Stoichkov and any organizations or awards mentioned.\"\n",
    "- Filter the relationships adhering to the initial instruction: \"The relationship can be a verb (e.g., works, located, etc.) and sometimes a noun (e.g., co-worker, investment, etc.) and should be maximum 2 words. The entity from the text should be a specific entity, i.e. organization, award, person, professional affiliations, etc.\" \n",
    "- For each entity identified related to Hristo Stoichkov, extract the relationship between them and Stoichkov. The relationship should be expressed in a maximum of two words, and the output format should be 'Hristo Stoichkov - relationship - entity'. Focus on relationships where the entity is a specific organization, award, person, or professional affiliation.\n",
    "- Prompt for Structured Outputs: \"For each identified relationship involving Hristo Stoichkov, format the response as 'Entity 1 - Relationship - Entity 2'.\"\n",
    "- Relationships can be between the Entities found and other entities in the text\n",
    "- for any of the discovered entities find if they have relationships to other entities in the provided information\n",
    "- Refinement (optional) - if the relationships extracted are too broad or not in the specified format, you can further refine the prompt to narrow down the responses or adjust the relationship descriptions: \"Refine the previously extracted relationships to ensure they follow the specified format strictly 'X - relationship - entity' and the relationship is described in no more than two words. Simplify complex descriptions if necessary.\"\n",
    "- Refine the previously extracted relationships to ensure they follow the specified format strictly 'Hristo Stoichkov - relationship - entity' and the relationship is described in no more than two words. Simplify complex descriptions if necessary.\n",
    "- Verify and Validate: \"Verify the completeness and accuracy of the relationships extracted. If any relationship is missing or inaccurately described, correct it based on the information provided.\"\n",
    "- Verify the completeness and accuracy of the relationships extracted. If any relationship is missing or inaccurately described, correct it based on the information provided.\n",
    "- \"Hristo Stoichkov - commentator for - TUDN\n",
    "Hristo Stoichkov - runner-up for - FIFA World Player of the Year award (1992, 1994)\n",
    "Hristo Stoichkov - received - Ballon d'Or (1994)\n",
    "Hristo Stoichkov - included in - FIFA 100 (2004)\n",
    "Hristo Stoichkov - played for - CSKA-Sofia\n",
    "Hristo Stoichkov - played for - Barcelona\n",
    "Hristo Stoichkov - played for - D.C. United\n",
    "Hristo Stoichkov - represented - the Bulgarian national team\"\n",
    "- Remove duplicate relationships (keep multiple relationships between the same two entities if they are different)\n",
    "\n",
    "- Direct Questions - a second Bing search for each relationship (type): “Yigit Ihlamur” AND “Vela Partners” / \"What teams did Hristo Stoichkov play for?\"\n",
    "- Guided Extraction and Guided Extraction: \"List all teams Hristo Stoichkov played for in a bullet point format.\"\n",
    "\n",
    "- Give me that data as a python list of tuples of three elements, where for each \"X-Y-Z\" above there is a corresponding tuple (X, Z, Y)\n",
    "Hristo Stoichkov - commentator for - TUDN\n",
    "Hristo Stoichkov - runner-up for - FIFA World Player of the Year award (1992, 1994)\n",
    "Hristo Stoichkov - received - Ballon d'Or (1994)\n",
    "Hristo Stoichkov - included in - FIFA 100 (2004)\n",
    "Hristo Stoichkov - played for - CSKA-Sofia\n",
    "Hristo Stoichkov - played for - Barcelona\n",
    "Hristo Stoichkov - played for - D.C. United\n",
    "Hristo Stoichkov - represented - the Bulgarian national team"
   ]
  },
  {
   "cell_type": "markdown",
   "metadata": {},
   "source": [
    "### Data Retrieval and Preprocessing"
   ]
  },
  {
   "cell_type": "markdown",
   "metadata": {},
   "source": [
    "### LLM Processing: Entities and Relations extraction"
   ]
  },
  {
   "cell_type": "code",
   "execution_count": null,
   "metadata": {},
   "outputs": [],
   "source": [
    "exampleArticles = \"\"\"Consider the searches below, returned from a web query about Hristo Stoichkov. Extract all relevant relationships between Hristo Stoichkov and other entities in the text.\n",
    "Example: Hristo Stoichkov - played for - Barcelona\n",
    "\n",
    "Search 1: Hristo Stoichkov Stoichkov is a Bulgarian former professional footballer who is a football commentator for TUDN. A prolific forward, he is regarded as one of the best forwards of all time, and as the greatest Bulgarian footballer of all time. He was runner-up for the FIFA World Player of the Year award in 1992 and 1994, and received the Ballon d'Or in 1994. In 2004, Stoichkov was named by Pelé in the FIFA 100 list of the world's greatest living players.\n",
    "\n",
    "Search 2: Transfermarkt provides detailed information on Hristo Stoichkov, a former left winger who played for CSKA-Sofia, Barcelona, D.C. United and the Bulgarian national team. See his stats, awards, career history, gallery and more.\n",
    "\"\"\""
   ]
  },
  {
   "cell_type": "markdown",
   "metadata": {},
   "source": [
    "### Building the Knowledge Graph"
   ]
  },
  {
   "cell_type": "markdown",
   "metadata": {},
   "source": [
    "##### Visualizing the Knowledge Graph"
   ]
  },
  {
   "cell_type": "markdown",
   "metadata": {},
   "source": [
    "##### Output JSON"
   ]
  },
  {
   "cell_type": "code",
   "execution_count": null,
   "metadata": {},
   "outputs": [],
   "source": []
  }
 ],
 "metadata": {
  "kernelspec": {
   "display_name": "new",
   "language": "python",
   "name": "python3"
  },
  "language_info": {
   "codemirror_mode": {
    "name": "ipython",
    "version": 3
   },
   "file_extension": ".py",
   "mimetype": "text/x-python",
   "name": "python",
   "nbconvert_exporter": "python",
   "pygments_lexer": "ipython3",
   "version": "3.10.10"
  }
 },
 "nbformat": 4,
 "nbformat_minor": 2
}
