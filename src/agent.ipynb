{
 "cells": [
  {
   "cell_type": "code",
   "execution_count": 2,
   "metadata": {},
   "outputs": [],
   "source": [
    "from dataRetrieval import processInput\n",
    "from nlpProcessing import textToList\n",
    "from dotenv import load_dotenv\n",
    "\n",
    "load_dotenv()\n"
   ]
  },
  {
   "cell_type": "markdown",
   "metadata": {},
   "source": [
    "### Query Processing"
   ]
  },
  {
   "cell_type": "code",
   "execution_count": 2,
   "metadata": {},
   "outputs": [
    {
     "name": "stdout",
     "output_type": "stream",
     "text": [
      "Hristo Stoichkov\n"
     ]
    }
   ],
   "source": [
    "# user input\n",
    "query = processInput()"
   ]
  },
  {
   "cell_type": "markdown",
   "metadata": {},
   "source": [
    "### Data Retrieval and Preprocessing"
   ]
  },
  {
   "cell_type": "markdown",
   "metadata": {},
   "source": [
    "### LLM Processing: Entities and Relations extraction"
   ]
  },
  {
   "cell_type": "markdown",
   "metadata": {},
   "source": [
    "#### Prompting\n",
    "\n",
    "System (?): \"You extract the most important and relevant specific entities from a text and find how they relate.\"\n",
    "\n",
    "Identify Entities (?):\n",
    "\"\"\"Identify all unique specific entities related to {query} that are mentioned in the text below. These entities could include people, companies, locations, universities, professional affiliations, etc. Only include entities mentioned in the text.\"\"\"\n",
    "+ identify all unique entities related to {X} mentioned in the text. This includes organizations, awards, clubs, people, and other specific entities: \"Given the text, identify all unique specific entities (organizations, awards, clubs, and teams) mentioned in relation to X.\"\n",
    "+ Given the text, identify all unique specific entities (like organizations, awards, clubs, teams) mentioned in relation to Hristo Stoichkov.\n",
    "- Examples: professional roles, educational background, investment activities, board positions, geographical location, personal interests, achievements, investments, co-workers, etc.\n",
    "- Categorise (?): Prompt the model to identify and list named entities related to Stoichkov, categorizing them into persons, organizations, awards, etc.\n",
    "+ Remove duplicate entities\n",
    "\n",
    "Extract Relationships from Entities:\n",
    "\"\"\"Extract the relevant relationships between {query} and the entities you identified above. The relationships should be in the format \\\"{query} - relationship - identified entity\\\". The relationship should be maximum 2 words and can be a verb or a noun. The relationship should not be a form of the verb 'be', e.g., 'is', 'are', 'was', 'were'. Focus on relationships where the entity is a specific person, company, location, university, professional affiliation, etc.\"\"\"\n",
    "+ Extract Relationships - once you have a list of entities, extract relationships between X and these entities. Clearly state the format of the relationships (with example) and the constraints for the relationships (e.g., maximum of two words, the relationship should be a verb or a noun): \"For each entity identified related to X, extract the relationship between them and X. The relationship should be expressed in a maximum of two words, and the output format should be 'X - relationship - entity'. Focus on relationships where the entity is a specific organization, award, person, professional affiliation, etc.\"\n",
    "+ extract all relevant entities from the information above and the relationships between Hristo Stoichkov and these entities. The output should be a list of relationships in the format \"entity from the  input - relationship - entity from the text\". The relationship can be a verb (e.g., works, located, etc.) and sometimes a noun (e.g., co-worker, investment, etc.) and should be maximum 2 words. The entity from the text should be a specific entity, i.e. organization, award, person, professional affiliations, etc.\n",
    "+ extract the relationships between X and various entities, adhering to the format \"entity from the input - relationship - entity from the text\"\n",
    "\n",
    "Extract Relationships Directly (without Identifying Entities first):\n",
    "\"\"\"Step 1: Identify all unique specific entities related to {query} that are mentioned in the text below. These entities could include people, companies, locations, universities, professional affiliations, etc. Only include entities mentioned in the text.\\n\\nStep 2: Extract the relevant relationships between {query} and the entities you have identified. The relationships should be in the format \\\"{query} - relationship - identified entity\\\". The relationship should be maximum 2 words and can be a verb or a noun. The relationship should not be a form of the verb 'be', e.g., 'is', 'are', 'was', 'were'. Focus on relationships where the entity is a specific person, company, location, university, professional affiliation, etc.\\n\\nOnly output the list of relationships.\"\"\"\n",
    "+ identify all relevant entities and extract the relationships between Yigit Ihlamur and these entities in the specified format. Be concise and specific. Think step-by-step\n",
    "- Examples: If {query} is a person, these could be ... If {query} is a company, these could be ...\n",
    "+ Prompt for Structured Outputs: \"For each identified relationship involving Hristo Stoichkov, format the response as 'Entity 1 - Relationship - Entity 2'.\"\n",
    "- Relationships can be between the Entities found and other entities in the text\n",
    "- for any of the discovered entities find if they have relationships to other entities in the provided information\n",
    "+ Refine the previously extracted relationships to ensure they follow the specified format strictly 'Hristo Stoichkov - relationship - entity' and the relationship is described in no more than two words. Simplify complex descriptions if necessary.\n",
    "\n",
    "json/lists format\n",
    "- Give me that data as a python list of tuples of three elements, where for each \"X-Y-Z\" above there is a corresponding tuple (X, Z, Y)\n",
    "\n",
    "+ directly come up with relationships without entities\n",
    "+ output JSON/list\n",
    "   + create two functions to further do that\n",
    "+ -- directly output JSON/list - didnt'work well\n",
    "- if the list of relationships is longer than 30 get only the top 30 (can be a parameter)\n",
    "\n",
    "\n",
    "\n",
    "Further Questions:\n",
    "\"\"\"What relationships of the entity Vela Partners can you find in the text? The relationship should be maximum 2 words and can be a verb or a noun. Focus on specific relationships where the entity is not abstract, but a specific person, company, location, university, professional affiliation, etc. Only output the list of relationships.\"\"\"\n",
    "(not implemented) Refinements and Verification:\n",
    "- Refinement (optional) - if the relationships extracted are too broad or not in the specified format, you can further refine the prompt to narrow down the responses or adjust the relationship descriptions: \"Refine the previously extracted relationships to ensure they follow the specified format strictly 'X - relationship - entity' and the relationship is described in no more than two words. Simplify complex descriptions if necessary.\"\n",
    "- Verify and Validate: \"Verify the completeness and accuracy of the relationships extracted. If any relationship is missing or inaccurately described, correct it based on the information provided.\"\n",
    "- Remove duplicate relationships (keep multiple relationships between the same two entities if they are different)\n",
    "- \"Consider each relationship from above separately. ... Remove relationships that lack context.\"\n",
    "- Further: Design prompts that focus specifically on relationship extraction between entities: \"Identify and describe the relationship between Hristo Stoichkov and any organizations or awards mentioned.\"\n",
    "- Further: Consider each relationship separately. Search the text for entities that relate in the same way as the current relationship. Add any new unique, relevant entities to the list if you find any.\n",
    "- Direct Questions - a second Bing search for each relationship (type): “Yigit Ihlamur” AND “Vela Partners” / \"What teams did Hristo Stoichkov play for?\"\n",
    "- Guided Extraction and Guided Extraction: \"List all teams Hristo Stoichkov played for in a bullet point format.\""
   ]
  },
  {
   "cell_type": "markdown",
   "metadata": {},
   "source": [
    "### Building the Knowledge Graph"
   ]
  },
  {
   "cell_type": "markdown",
   "metadata": {},
   "source": [
    "##### Visualizing the Knowledge Graph"
   ]
  },
  {
   "cell_type": "markdown",
   "metadata": {},
   "source": [
    "##### Output JSON"
   ]
  },
  {
   "cell_type": "code",
   "execution_count": null,
   "metadata": {},
   "outputs": [],
   "source": []
  }
 ],
 "metadata": {
  "kernelspec": {
   "display_name": "new",
   "language": "python",
   "name": "python3"
  },
  "language_info": {
   "codemirror_mode": {
    "name": "ipython",
    "version": 3
   },
   "file_extension": ".py",
   "mimetype": "text/x-python",
   "name": "python",
   "nbconvert_exporter": "python",
   "pygments_lexer": "ipython3",
   "version": "3.10.10"
  }
 },
 "nbformat": 4,
 "nbformat_minor": 2
}
